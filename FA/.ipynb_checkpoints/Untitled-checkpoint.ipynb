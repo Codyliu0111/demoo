{
 "cells": [
  {
   "cell_type": "code",
   "execution_count": 12,
   "id": "presidential-accident",
   "metadata": {},
   "outputs": [],
   "source": [
    "import pandas as pd\n",
    "import numpy as np\n",
    "import matplotlib.pyplot as plt\n",
    "import matplotlib.ticker as ticker\n",
    "import matplotlib.transforms as transforms\n",
    "import datetime\n",
    "import tejapi\n",
    "tejapi.ApiConfig.api_key =\"gJmwWQMfIUIuyCKhYsQD10Aa0wIQ8f\""
   ]
  },
  {
   "cell_type": "code",
   "execution_count": 13,
   "id": "banner-klein",
   "metadata": {},
   "outputs": [],
   "source": [
    "import yfinance as yf\n",
    "import h5py\n",
    "import pandas as pd"
   ]
  },
  {
   "cell_type": "code",
   "execution_count": null,
   "id": "russian-toilet",
   "metadata": {},
   "outputs": [],
   "source": []
  }
 ],
 "metadata": {
  "kernelspec": {
   "display_name": "Python 3",
   "language": "python",
   "name": "python3"
  },
  "language_info": {
   "codemirror_mode": {
    "name": "ipython",
    "version": 3
   },
   "file_extension": ".py",
   "mimetype": "text/x-python",
   "name": "python",
   "nbconvert_exporter": "python",
   "pygments_lexer": "ipython3",
   "version": "3.8.2"
  }
 },
 "nbformat": 4,
 "nbformat_minor": 5
}
